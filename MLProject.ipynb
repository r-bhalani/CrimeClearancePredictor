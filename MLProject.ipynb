{
  "nbformat": 4,
  "nbformat_minor": 0,
  "metadata": {
    "colab": {
      "provenance": []
    },
    "kernelspec": {
      "name": "python3",
      "display_name": "Python 3"
    },
    "language_info": {
      "name": "python"
    }
  },
  "cells": [
    {
      "cell_type": "markdown",
      "source": [
        "# CS 363M Project Group 14\n",
        "Names: Ruchi Bhalani, Anthony Modica, Martin Nguyen, Lindsey Smyth"
      ],
      "metadata": {
        "id": "hEQE6EEfJQfB"
      }
    },
    {
      "cell_type": "markdown",
      "source": [
        "# Introduction\n",
        "Crime has always been a difficult problem to solve. According to the Pew Research Center in 2017, fewer than half of all crimes are reported, and fewer than half of those have been solved (https://www.pewresearch.org/fact-tank/2017/03/01/most-violent-and-property-crimes-in-the-u-s-go-unsolved/). There are many factors that are involved in solving a crime, but many cases can be unsolved due to things such as insufficient evidence and time taken. \n",
        "\n",
        "What we are trying to solve here is **given the factors of a certain crime, will the crime be able to be cleared or not**? This is important since there are only so many police officers and detectives that can be assigned to a case at a time, and sometimes it might not be worth the effort on certain types of crimes that are categorized as misdemeanors. Although officers should not fully take the results of the model to be true, perhaps they could reconsider how much manpower they are assigning to each specific case and how long they should stay on them. This way, more crimes could potentially be cleared by allocating officers’ time wisely."
      ],
      "metadata": {
        "id": "shY_s4DnvFUl"
      }
    },
    {
      "cell_type": "markdown",
      "source": [
        "# Dataset\n",
        "We are using Austin Police Department’s (APD) Crime Reports dataset (https://data.austintexas.gov/Public-Safety/Crime-Reports/fdj4-gpfu). This dataset contains all incidents that APD has responded to and made a report since 2003. Due to the dataset being updated weekly and reports from long ago are constantly being added to the database weekly, we decided to use only **reports made before and including the update on November 7th, which contain 2.34 million records**.\n",
        "\n",
        "Each record contains **27 features**, which includes the incident report number, the crime reported, the dates the crime and report were occurred and made respectively, the location, and whether the crime has been solved. We will be using models to **predict whether a crime has been cleared by either an arrest or by exception**, which are denoted as `C` and `O` respectively on the dataset. A crime is not cleared if there is an `N` or a blank in the clearance status column."
      ],
      "metadata": {
        "id": "klEP0z5evL6X"
      }
    },
    {
      "cell_type": "markdown",
      "source": [
        "# Data Prep\n",
        "Since uploading and training a model on 2.34 million records is not suitable, we decided to only use records that had reports filed in 2021. That way we are able to see an entire year’s worth of reports in a recent enough year that we can make predictions on. As a result, the 2021 partition of the dataset gives us **91,500 records**, which should be enough to train on with our models. \n",
        "\n",
        "There are also many rows that have some features blank, notably the clearance status column. We decided to drop all rows that contained a blank feature that we are using, since using imputation or another method could potentially affect the status of the reports made, which results in about **33,500 records**."
      ],
      "metadata": {
        "id": "z2f1ibEVi7Uf"
      }
    },
    {
      "cell_type": "code",
      "execution_count": null,
      "metadata": {
        "id": "MaKW0PhwFBr0",
        "colab": {
          "base_uri": "https://localhost:8080/"
        },
        "outputId": "390e2cfa-eac2-4fa7-f79b-632dbf0e14c9"
      },
      "outputs": [
        {
          "output_type": "stream",
          "name": "stdout",
          "text": [
            "Drive already mounted at /content/drive; to attempt to forcibly remount, call drive.mount(\"/content/drive\", force_remount=True).\n",
            "Number of rows for 2021 reports: (91500, 27)\n",
            "Number of rows that have no NaNs: (33597, 27)\n"
          ]
        }
      ],
      "source": [
        "import pandas as pd\n",
        "import matplotlib.pyplot as plt\n",
        "from google.colab import drive\n",
        "\n",
        "# We all had the data stored in the exact spot in our Google Drives, enabling us to upload the same data.\n",
        "drive.mount('/content/drive')\n",
        "data = pd.read_csv(\"/content/drive/MyDrive/Colab Notebooks/ML final project/Crime_Reports.csv\", header='infer')\n",
        "print(\"Number of rows for 2021 reports:\", data.shape)\n",
        "data.dropna(inplace = True)\n",
        "print(\"Number of rows that have no NaNs:\", data.shape)"
      ]
    },
    {
      "cell_type": "markdown",
      "source": [
        "# Data Exploration\n",
        "Here we are looking to see if there are certain trends within the data."
      ],
      "metadata": {
        "id": "ApU-Ixa2jPCj"
      }
    },
    {
      "cell_type": "code",
      "source": [
        "fig, axs = plt. subplots()\n",
        "data['Council District'].value_counts().plot(kind='bar')\n",
        "axs.set_title(\"Crimes per Council District\")\n",
        "plt.xticks(rotation = 'horizontal')"
      ],
      "metadata": {
        "colab": {
          "base_uri": "https://localhost:8080/",
          "height": 317
        },
        "id": "ZeXjbaSljUE7",
        "outputId": "1ddc35dc-bbeb-43b6-abb6-6e5d22aec9b0"
      },
      "execution_count": null,
      "outputs": [
        {
          "output_type": "execute_result",
          "data": {
            "text/plain": [
              "(array([0, 1, 2, 3, 4, 5, 6, 7, 8, 9]),\n",
              " <a list of 10 Text major ticklabel objects>)"
            ]
          },
          "metadata": {},
          "execution_count": 67
        },
        {
          "output_type": "display_data",
          "data": {
            "text/plain": [
              "<Figure size 432x288 with 1 Axes>"
            ],
            "image/png": "[encoded data removed]"
          },
          "metadata": {
            "needs_background": "light"
          }
        }
      ]
    },
    {
      "cell_type": "markdown",
      "source": [
        "It seems that the most popular crimes reported in 2021 were different forms of theft. The only category in the top 10 that is not a form of theft is aggravated assault."
      ],
      "metadata": {
        "id": "yqKzlh7TGrS5"
      }
    },
    {
      "cell_type": "code",
      "source": [
        "fig, axs = plt.subplots()\n",
        "data['Highest Offense Description'].value_counts().head(10).plot(kind='barh')\n",
        "axs.set_title(\"Top 10 Crimes Committed in 2021\")"
      ],
      "metadata": {
        "colab": {
          "base_uri": "https://localhost:8080/",
          "height": 299
        },
        "id": "dvrH1D6vGovd",
        "outputId": "0555e894-5bcf-4488-f594-360ca72e385d"
      },
      "execution_count": null,
      "outputs": [
        {
          "output_type": "execute_result",
          "data": {
            "text/plain": [
              "Text(0.5, 1.0, 'Top 10 Crimes Committed in 2021')"
            ]
          },
          "metadata": {},
          "execution_count": 68
        },
        {
          "output_type": "display_data",
          "data": {
            "text/plain": [
              "<Figure size 432x288 with 1 Axes>"
            ],
            "image/png": "[encoded data removed]"
          },
          "metadata": {
            "needs_background": "light"
          }
        }
      ]
    },
    {
      "cell_type": "code",
      "source": [
        "fig, axs = plt.subplots()\n",
        "data['Occurred Date'].value_counts().head(10).plot(kind='barh')\n",
        "axs.set_title(\"Top 10 Days Crimes Occurred in 2021\")"
      ],
      "metadata": {
        "colab": {
          "base_uri": "https://localhost:8080/",
          "height": 299
        },
        "id": "d8VzESwxGu9O",
        "outputId": "9d8286e5-dab6-4005-9544-be27891d8670"
      },
      "execution_count": null,
      "outputs": [
        {
          "output_type": "execute_result",
          "data": {
            "text/plain": [
              "Text(0.5, 1.0, 'Top 10 Days Crimes Occurred in 2021')"
            ]
          },
          "metadata": {},
          "execution_count": 69
        },
        {
          "output_type": "display_data",
          "data": {
            "text/plain": [
              "<Figure size 432x288 with 1 Axes>"
            ],
            "image/png": "[encoded data removed]"
          },
          "metadata": {
            "needs_background": "light"
          }
        }
      ]
    },
    {
      "cell_type": "markdown",
      "source": [
        "The number of crimes cleared by either arrest or exception (`C` or `O`) are low compared to non-cleared crimes. This means that we will either have to upscale or downscale our data in order to train our models properly."
      ],
      "metadata": {
        "id": "AAW5_UmIHb6P"
      }
    },
    {
      "cell_type": "code",
      "source": [
        "print(data['Clearance Status'].value_counts())\n",
        "fig, axs = plt.subplots()\n",
        "data['Clearance Status'].value_counts().plot(kind='pie')\n",
        "axs.set_title(\"Percentage of Crimes Cleared\")"
      ],
      "metadata": {
        "id": "ADHuR-RSHcji",
        "outputId": "3e6f9d9a-b06c-4b6d-b5c0-92d95be2813a",
        "colab": {
          "base_uri": "https://localhost:8080/",
          "height": 354
        }
      },
      "execution_count": null,
      "outputs": [
        {
          "output_type": "stream",
          "name": "stdout",
          "text": [
            "N    30298\n",
            "C     3245\n",
            "O       54\n",
            "Name: Clearance Status, dtype: int64\n"
          ]
        },
        {
          "output_type": "execute_result",
          "data": {
            "text/plain": [
              "Text(0.5, 1.0, 'Percentage of Crimes Cleared')"
            ]
          },
          "metadata": {},
          "execution_count": 70
        },
        {
          "output_type": "display_data",
          "data": {
            "text/plain": [
              "<Figure size 432x288 with 1 Axes>"
            ],
            "image/png": "[encoded data removed]"
          },
          "metadata": {}
        }
      ]
    },
    {
      "cell_type": "markdown",
      "source": [
        "# Feature Engineering\n",
        "\n",
        "We decided to drop 13 columns, which is almost half of the features available. The reason we decided to drop these 13 columns is that many of them were duplicates, extraneous, or another way to express another feature. Some notable features dropped include date time (which was a combined feature of two other features), address, and other location features such as APD sector.\n",
        "\n",
        "Since both `C` and `O` mean the same thing, we will transform the `O` values to `C` in order to have a two class problem. Since there is also a class imbalance, we will downsample by randomly selecting noncleared crimes in order to make them equal."
      ],
      "metadata": {
        "id": "e8E3Y7m_jrBG"
      }
    },
    {
      "cell_type": "code",
      "source": [
        "from sklearn.preprocessing import LabelEncoder\n",
        "\n",
        "# Features removed: Incident number, Highest offense code, Occurred date time, Report date time, address,\n",
        "# Council district, APD Sector, PRA, Census Tract, UCR Category, Category Description, X-coordinate, Y-coordinate, Location\n",
        "data = data.drop(columns = ['Incident Number', 'Highest Offense Code', 'Occurred Date Time', 'Report Date Time', 'Address', 'APD Sector', 'PRA', 'Census Tract', 'UCR Category', 'Category Description', 'X-coordinate', 'Y-coordinate', 'Location'])\n",
        "\n",
        "\n",
        "# Having negatives can be finnicky such as with Naive Bayes, doesn't matter in the long run since they're all near the same location.\n",
        "data['Longitude'] = data['Longitude'].apply(lambda x : x * -1)\n",
        "\n",
        "# Replacing Os with Cs\n",
        "data.replace({'Clearance Status': 'O'}, 'C', inplace=True)\n",
        "\n",
        "# Categorize all non-numeric columns\n",
        "objList = data.select_dtypes(include = \"object\").columns\n",
        "le = LabelEncoder()\n",
        "for feat in objList:\n",
        "  data[feat] = le.fit_transform(data[feat].astype(str))\n",
        "\n",
        "# Downsampling\n",
        "full_data = data.copy()\n",
        "full_labels = full_data['Clearance Status'].values.ravel()\n",
        "full_data = full_data.drop('Clearance Status', axis = 1)\n",
        "cleared = data.loc[data['Clearance Status'] == 0]\n",
        "noncleared_sample = data.loc[data['Clearance Status'] == 1].sample(n = len(cleared))\n",
        "data = pd.concat([cleared, noncleared_sample])\n",
        "\n",
        "# We don't want to categorize the variables yet for linear regression!\n",
        "regression_data = data.copy()\n",
        "\n",
        "# Getting array of labels and removing clearance status from the data\n",
        "labels = data.filter(['Clearance Status'], axis = 1)\n",
        "data = data.drop('Clearance Status', axis = 1)\n",
        "labels_array = labels.values.ravel()\n",
        "\n",
        "data.head()\n",
        "print(data.shape)"
      ],
      "metadata": {
        "colab": {
          "base_uri": "https://localhost:8080/"
        },
        "id": "vwzqS74co_w8",
        "outputId": "996c8d17-61a6-4dcd-8fb6-bdc1641043d2"
      },
      "execution_count": null,
      "outputs": [
        {
          "output_type": "stream",
          "name": "stdout",
          "text": [
            "(6598, 13)\n"
          ]
        }
      ]
    },
    {
      "cell_type": "markdown",
      "source": [
        "# Modeling"
      ],
      "metadata": {
        "id": "uGHf2HAdltLx"
      }
    },
    {
      "cell_type": "markdown",
      "source": [
        "Since each model might require manipulating the data in different ways, before each model we will copy the dataframe and make modifications depending on the requirements. This way we can preserve the original sampled data. Since our data is labeled we will try a variety of supervised classification algorithms on our dataset."
      ],
      "metadata": {
        "id": "iOMIHPtJilIY"
      }
    },
    {
      "cell_type": "markdown",
      "source": [
        "# Decision Tree"
      ],
      "metadata": {
        "id": "RqnUdvm35bdC"
      }
    },
    {
      "cell_type": "markdown",
      "source": [
        "Using a decision tree model is very interesting given the fact that all of the dates are being categorized, resulting in not being able to be used as a range. This might have contributed to the low accuracy of the model, but ~50% is alright given the circumstances.\n",
        "\n",
        "The average accuracy is chosen from the nested cross-validation method utilized in Assignment 4. We've decided to choose a couple of parameters instead of a range in order to calculate the models faster.\n",
        "\n",
        "13 is the max number of features, which is why the last number in `max_features` is not 15."
      ],
      "metadata": {
        "id": "ZvSdgvnh4Li7"
      }
    },
    {
      "cell_type": "code",
      "source": [
        "from sklearn.tree import DecisionTreeClassifier\n",
        "from sklearn.model_selection import cross_val_score\n",
        "from sklearn.model_selection import GridSearchCV\n",
        "\n",
        "decision_tree = DecisionTreeClassifier(criterion = \"gini\", random_state = 5)\n",
        "\n",
        "param_grid = {\n",
        "    'max_depth': [5, 10, 15, 20],\n",
        "    'max_features': [5, 10, 13],\n",
        "    'min_samples_leaf': [5, 10, 15, 20]\n",
        "}\n",
        "\n",
        "grid_search = GridSearchCV(decision_tree, param_grid, scoring = 'accuracy')\n",
        "decision_accuracies = cross_val_score(grid_search, data, labels_array, cv = 5)\n",
        "decision_accuracy = sum(decision_accuracies) / len(decision_accuracies)\n",
        "print(decision_accuracy)\n",
        "predictions = cross_val_predict(grid_search, data, labels_array, cv = 5)\n",
        "dt_cm = confusion_matrix(labels_array, predictions)\n",
        "dt_cr = classification_report(labels_array, predictions,  target_names = ['Cleared', 'Not Cleared'])"
      ],
      "metadata": {
        "colab": {
          "base_uri": "https://localhost:8080/"
        },
        "id": "dL5-Zt4C5did",
        "outputId": "c808ab39-9405-4e4b-ea24-02d8e04eef10"
      },
      "execution_count": null,
      "outputs": [
        {
          "output_type": "stream",
          "name": "stdout",
          "text": [
            "0.49621166172720377\n"
          ]
        }
      ]
    },
    {
      "cell_type": "code",
      "source": [
        "print(dt_cm)\n",
        "print(dt_cr)"
      ],
      "metadata": {
        "colab": {
          "base_uri": "https://localhost:8080/"
        },
        "id": "sfNU4joGkzGe",
        "outputId": "a9724b2a-536e-4820-d99b-3d2360538891"
      },
      "execution_count": null,
      "outputs": [
        {
          "output_type": "stream",
          "name": "stdout",
          "text": [
            "[[ 989 2310]\n",
            " [1014 2285]]\n",
            "              precision    recall  f1-score   support\n",
            "\n",
            "           0       0.49      0.30      0.37      3299\n",
            "           1       0.50      0.69      0.58      3299\n",
            "\n",
            "    accuracy                           0.50      6598\n",
            "   macro avg       0.50      0.50      0.48      6598\n",
            "weighted avg       0.50      0.50      0.48      6598\n",
            "\n"
          ]
        }
      ]
    },
    {
      "cell_type": "markdown",
      "source": [
        "# Naïve Bayes\n",
        "We wanted to experiment with Naive Bayes since its a fast and simple algorithm. This is because probabilities can be calculated with a single scan of the data, as opposed to a more lengthy iterative processing of the data. Furthermore Naive Bayes does not suffer from the curse of dimensionality and because of this, we wont run pca on the features even though this data set has a fair number of features. One of the downsides however is that it assumes that the input features are statistically independent from eachother which is likely not the case given that the features Council District and APD district are likely related. However given the ~75% f1-scores it looks like the features were independent enough."
      ],
      "metadata": {
        "id": "yfBjGlJnSPcu"
      }
    },
    {
      "cell_type": "code",
      "source": [
        "from sklearn.model_selection import KFold\n",
        "from sklearn.model_selection import cross_val_predict\n",
        "from sklearn.metrics import confusion_matrix\n",
        "from sklearn.metrics import classification_report\n",
        "from sklearn.naive_bayes import CategoricalNB\n",
        "\n",
        "clf = CategoricalNB()\n",
        "cv = KFold(5, shuffle=True, random_state=33)\n",
        "accuracies = cross_val_score(clf, data, labels_array, cv=cv)\n",
        "print(\"avg. accuracy: {}\".format(accuracies.mean()))\n",
        "predictions = cross_val_predict(clf, data, labels_array, cv = cv)\n",
        "nb_cm = confusion_matrix(labels_array, predictions)\n",
        "nb_cr = classification_report(labels_array, predictions,  target_names = ['Cleared', 'Not Cleared'])\n",
        "print(nb_cm)\n",
        "print(nb_cr)\n",
        "#call fit on the model to use later\n",
        "clf.fit(data, labels_array)"
      ],
      "metadata": {
        "colab": {
          "base_uri": "https://localhost:8080/"
        },
        "id": "ZHcWTxj9ShSl",
        "outputId": "52dfdb4d-ad83-4dfb-92d6-4b74d2334464"
      },
      "execution_count": null,
      "outputs": [
        {
          "output_type": "stream",
          "name": "stdout",
          "text": [
            "avg. accuracy: 0.7570418361017299\n",
            "[[2334  965]\n",
            " [ 638 2661]]\n",
            "              precision    recall  f1-score   support\n",
            "\n",
            "           0       0.79      0.71      0.74      3299\n",
            "           1       0.73      0.81      0.77      3299\n",
            "\n",
            "    accuracy                           0.76      6598\n",
            "   macro avg       0.76      0.76      0.76      6598\n",
            "weighted avg       0.76      0.76      0.76      6598\n",
            "\n"
          ]
        },
        {
          "output_type": "execute_result",
          "data": {
            "text/plain": [
              "CategoricalNB()"
            ]
          },
          "metadata": {},
          "execution_count": 89
        }
      ]
    },
    {
      "cell_type": "markdown",
      "metadata": {
        "id": "5bccf477"
      },
      "source": [
        "## Multiple Linear Regression"
      ]
    },
    {
      "cell_type": "markdown",
      "metadata": {
        "id": "8bb47879"
      },
      "source": [
        "**Data Prep**\n",
        "\n",
        "We need to make sure to use the unencoded values since we need to create dummies in order to utilize multiple linear regression with the categorical variables."
      ]
    },
    {
      "cell_type": "code",
      "execution_count": null,
      "metadata": {
        "colab": {
          "base_uri": "https://localhost:8080/",
          "height": 267
        },
        "id": "0484464d",
        "outputId": "460cf191-a928-4c47-d9c5-0bae89e6855d",
        "scrolled": false
      },
      "outputs": [
        {
          "output_type": "execute_result",
          "data": {
            "text/plain": [
              "     Highest Offense Description  Family Violence  Occurred Date  \\\n",
              "52                            13                0              0   \n",
              "105                           35                0              0   \n",
              "115                           34                0              0   \n",
              "124                            3                0              0   \n",
              "182                            3                0              0   \n",
              "\n",
              "     Occurred Time  Report Date  Report Time  Location Type  Zip Code  \\\n",
              "52            1430            0         1441             28   78704.0   \n",
              "105           1640            0         1644             30   78745.0   \n",
              "115            858            0          858             23   78701.0   \n",
              "124            306            0          306             30   78757.0   \n",
              "182            100            0          352              7   78701.0   \n",
              "\n",
              "     Council District  APD District  Clearance Status  Clearance Date  \\\n",
              "52                3.0             1                 0               5   \n",
              "105               2.0             2                 0               0   \n",
              "115               9.0             3                 0              24   \n",
              "124               7.0             5                 0               0   \n",
              "182               9.0             1                 0               7   \n",
              "\n",
              "      Latitude  Longitude  \n",
              "52   30.226533  97.762518  \n",
              "105  30.190612  97.772294  \n",
              "115  30.265837  97.746501  \n",
              "124  30.366942  97.728403  \n",
              "182  30.266763  97.739077  "
            ],
            "text/html": [
              "\n",
              "  <div id=\"df-c2606921-9b74-4590-8f9c-6863f2411902\">\n",
              "    <div class=\"colab-df-container\">\n",
              "      <div>\n",
              "<style scoped>\n",
              "    .dataframe tbody tr th:only-of-type {\n",
              "        vertical-align: middle;\n",
              "    }\n",
              "\n",
              "    .dataframe tbody tr th {\n",
              "        vertical-align: top;\n",
              "    }\n",
              "\n",
              "    .dataframe thead th {\n",
              "        text-align: right;\n",
              "    }\n",
              "</style>\n",
              "<table border=\"1\" class=\"dataframe\">\n",
              "  <thead>\n",
              "    <tr style=\"text-align: right;\">\n",
              "      <th></th>\n",
              "      <th>Highest Offense Description</th>\n",
              "      <th>Family Violence</th>\n",
              "      <th>Occurred Date</th>\n",
              "      <th>Occurred Time</th>\n",
              "      <th>Report Date</th>\n",
              "      <th>Report Time</th>\n",
              "      <th>Location Type</th>\n",
              "      <th>Zip Code</th>\n",
              "      <th>Council District</th>\n",
              "      <th>APD District</th>\n",
              "      <th>Clearance Status</th>\n",
              "      <th>Clearance Date</th>\n",
              "      <th>Latitude</th>\n",
              "      <th>Longitude</th>\n",
              "    </tr>\n",
              "  </thead>\n",
              "  <tbody>\n",
              "    <tr>\n",
              "      <th>52</th>\n",
              "      <td>13</td>\n",
              "      <td>0</td>\n",
              "      <td>0</td>\n",
              "      <td>1430</td>\n",
              "      <td>0</td>\n",
              "      <td>1441</td>\n",
              "      <td>28</td>\n",
              "      <td>78704.0</td>\n",
              "      <td>3.0</td>\n",
              "      <td>1</td>\n",
              "      <td>0</td>\n",
              "      <td>5</td>\n",
              "      <td>30.226533</td>\n",
              "      <td>97.762518</td>\n",
              "    </tr>\n",
              "    <tr>\n",
              "      <th>105</th>\n",
              "      <td>35</td>\n",
              "      <td>0</td>\n",
              "      <td>0</td>\n",
              "      <td>1640</td>\n",
              "      <td>0</td>\n",
              "      <td>1644</td>\n",
              "      <td>30</td>\n",
              "      <td>78745.0</td>\n",
              "      <td>2.0</td>\n",
              "      <td>2</td>\n",
              "      <td>0</td>\n",
              "      <td>0</td>\n",
              "      <td>30.190612</td>\n",
              "      <td>97.772294</td>\n",
              "    </tr>\n",
              "    <tr>\n",
              "      <th>115</th>\n",
              "      <td>34</td>\n",
              "      <td>0</td>\n",
              "      <td>0</td>\n",
              "      <td>858</td>\n",
              "      <td>0</td>\n",
              "      <td>858</td>\n",
              "      <td>23</td>\n",
              "      <td>78701.0</td>\n",
              "      <td>9.0</td>\n",
              "      <td>3</td>\n",
              "      <td>0</td>\n",
              "      <td>24</td>\n",
              "      <td>30.265837</td>\n",
              "      <td>97.746501</td>\n",
              "    </tr>\n",
              "    <tr>\n",
              "      <th>124</th>\n",
              "      <td>3</td>\n",
              "      <td>0</td>\n",
              "      <td>0</td>\n",
              "      <td>306</td>\n",
              "      <td>0</td>\n",
              "      <td>306</td>\n",
              "      <td>30</td>\n",
              "      <td>78757.0</td>\n",
              "      <td>7.0</td>\n",
              "      <td>5</td>\n",
              "      <td>0</td>\n",
              "      <td>0</td>\n",
              "      <td>30.366942</td>\n",
              "      <td>97.728403</td>\n",
              "    </tr>\n",
              "    <tr>\n",
              "      <th>182</th>\n",
              "      <td>3</td>\n",
              "      <td>0</td>\n",
              "      <td>0</td>\n",
              "      <td>100</td>\n",
              "      <td>0</td>\n",
              "      <td>352</td>\n",
              "      <td>7</td>\n",
              "      <td>78701.0</td>\n",
              "      <td>9.0</td>\n",
              "      <td>1</td>\n",
              "      <td>0</td>\n",
              "      <td>7</td>\n",
              "      <td>30.266763</td>\n",
              "      <td>97.739077</td>\n",
              "    </tr>\n",
              "  </tbody>\n",
              "</table>\n",
              "</div>\n",
              "      <button class=\"colab-df-convert\" onclick=\"convertToInteractive('df-c2606921-9b74-4590-8f9c-6863f2411902')\"\n",
              "              title=\"Convert this dataframe to an interactive table.\"\n",
              "              style=\"display:none;\">\n",
              "        \n",
              "  <svg xmlns=\"http://www.w3.org/2000/svg\" height=\"24px\"viewBox=\"0 0 24 24\"\n",
              "       width=\"24px\">\n",
              "    <path d=\"M0 0h24v24H0V0z\" fill=\"none\"/>\n",
              "    <path d=\"M18.56 5.44l.94 2.06.94-2.06 2.06-.94-2.06-.94-.94-2.06-.94 2.06-2.06.94zm-11 1L8.5 8.5l.94-2.06 2.06-.94-2.06-.94L8.5 2.5l-.94 2.06-2.06.94zm10 10l.94 2.06.94-2.06 2.06-.94-2.06-.94-.94-2.06-.94 2.06-2.06.94z\"/><path d=\"M17.41 7.96l-1.37-1.37c-.4-.4-.92-.59-1.43-.59-.52 0-1.04.2-1.43.59L10.3 9.45l-7.72 7.72c-.78.78-.78 2.05 0 2.83L4 21.41c.39.39.9.59 1.41.59.51 0 1.02-.2 1.41-.59l7.78-7.78 2.81-2.81c.8-.78.8-2.07 0-2.86zM5.41 20L4 18.59l7.72-7.72 1.47 1.35L5.41 20z\"/>\n",
              "  </svg>\n",
              "      </button>\n",
              "      \n",
              "  <style>\n",
              "    .colab-df-container {\n",
              "      display:flex;\n",
              "      flex-wrap:wrap;\n",
              "      gap: 12px;\n",
              "    }\n",
              "\n",
              "    .colab-df-convert {\n",
              "      background-color: #E8F0FE;\n",
              "      border: none;\n",
              "      border-radius: 50%;\n",
              "      cursor: pointer;\n",
              "      display: none;\n",
              "      fill: #1967D2;\n",
              "      height: 32px;\n",
              "      padding: 0 0 0 0;\n",
              "      width: 32px;\n",
              "    }\n",
              "\n",
              "    .colab-df-convert:hover {\n",
              "      background-color: #E2EBFA;\n",
              "      box-shadow: 0px 1px 2px rgba(60, 64, 67, 0.3), 0px 1px 3px 1px rgba(60, 64, 67, 0.15);\n",
              "      fill: #174EA6;\n",
              "    }\n",
              "\n",
              "    [theme=dark] .colab-df-convert {\n",
              "      background-color: #3B4455;\n",
              "      fill: #D2E3FC;\n",
              "    }\n",
              "\n",
              "    [theme=dark] .colab-df-convert:hover {\n",
              "      background-color: #434B5C;\n",
              "      box-shadow: 0px 1px 3px 1px rgba(0, 0, 0, 0.15);\n",
              "      filter: drop-shadow(0px 1px 2px rgba(0, 0, 0, 0.3));\n",
              "      fill: #FFFFFF;\n",
              "    }\n",
              "  </style>\n",
              "\n",
              "      <script>\n",
              "        const buttonEl =\n",
              "          document.querySelector('#df-c2606921-9b74-4590-8f9c-6863f2411902 button.colab-df-convert');\n",
              "        buttonEl.style.display =\n",
              "          google.colab.kernel.accessAllowed ? 'block' : 'none';\n",
              "\n",
              "        async function convertToInteractive(key) {\n",
              "          const element = document.querySelector('#df-c2606921-9b74-4590-8f9c-6863f2411902');\n",
              "          const dataTable =\n",
              "            await google.colab.kernel.invokeFunction('convertToInteractive',\n",
              "                                                     [key], {});\n",
              "          if (!dataTable) return;\n",
              "\n",
              "          const docLinkHtml = 'Like what you see? Visit the ' +\n",
              "            '<a target=\"_blank\" href=https://colab.research.google.com/notebooks/data_table.ipynb>data table notebook</a>'\n",
              "            + ' to learn more about interactive tables.';\n",
              "          element.innerHTML = '';\n",
              "          dataTable['output_type'] = 'display_data';\n",
              "          await google.colab.output.renderOutput(dataTable, element);\n",
              "          const docLink = document.createElement('div');\n",
              "          docLink.innerHTML = docLinkHtml;\n",
              "          element.appendChild(docLink);\n",
              "        }\n",
              "      </script>\n",
              "    </div>\n",
              "  </div>\n",
              "  "
            ]
          },
          "metadata": {},
          "execution_count": 80
        }
      ],
      "source": [
        "regression_data = pd.get_dummies(regression_data, drop_first = False)\n",
        "regression_data.head()"
      ]
    },
    {
      "cell_type": "markdown",
      "metadata": {
        "id": "38a13dc1"
      },
      "source": [
        "Given the fact that there are many categorical variables (at least 365 dates), printing the correlation for each one will be a bit too much."
      ]
    },
    {
      "cell_type": "markdown",
      "metadata": {
        "id": "2b3b2aa1"
      },
      "source": [
        "We want to test if we can predict the clearance status of a reported crime using a multiple linear regression model."
      ]
    },
    {
      "cell_type": "code",
      "execution_count": null,
      "metadata": {
        "colab": {
          "base_uri": "https://localhost:8080/"
        },
        "id": "6c1db535",
        "outputId": "e7845285-b600-4dd8-e455-ffdd14260689"
      },
      "outputs": [
        {
          "output_type": "stream",
          "name": "stdout",
          "text": [
            "[0. 0. 1. 0. 0.]\n",
            "generalization estimate:  0.2\n"
          ]
        }
      ],
      "source": [
        "from sklearn.model_selection import train_test_split\n",
        "from sklearn.linear_model import LinearRegression\n",
        "\n",
        "x_train, x_test, y_train, y_test = train_test_split(regression_data, labels_array, test_size=0.2, random_state=40)\n",
        "reg = LinearRegression().fit(x_train, y_train)\n",
        "\n",
        "all_scores = cross_val_score(reg, regression_data, labels_array, cv=5)\n",
        "total = 0.0\n",
        "print(all_scores)\n",
        "for r in all_scores:\n",
        "  total += r\n",
        "print('generalization estimate: ', total/(len(all_scores)))"
      ]
    },
    {
      "cell_type": "markdown",
      "metadata": {
        "id": "f3c60daf"
      },
      "source": [
        "Even though linear correlation is low, here we can build the final model on the entire dataset."
      ]
    },
    {
      "cell_type": "code",
      "execution_count": null,
      "metadata": {
        "id": "03cfb422",
        "scrolled": true,
        "colab": {
          "base_uri": "https://localhost:8080/"
        },
        "outputId": "96393378-7720-466b-9d15-4082d0ecf708"
      },
      "outputs": [
        {
          "output_type": "stream",
          "name": "stdout",
          "text": [
            "[ 1.21243118e-17 -1.25854188e-15  4.66206934e-17  2.81892565e-18\n",
            " -3.69712941e-17 -6.93889390e-18  8.92027337e-17 -1.13590506e-16\n",
            " -3.70824248e-16  5.62231502e-15  1.00000000e+00  1.40946282e-17\n",
            "  8.34883980e-18  1.03204082e-17]\n",
            "8.929079697850284e-12\n",
            "avg. accuracy: 0.2\n"
          ]
        }
      ],
      "source": [
        "reg4 = LinearRegression().fit(regression_data, labels_array)\n",
        "print(reg4.coef_)\n",
        "print(reg4.intercept_)\n",
        "\n",
        "reg_accuracies = cross_val_score(reg4, regression_data, labels_array, cv=5)\n",
        "print(\"avg. accuracy: {}\".format(reg_accuracies.mean()))\n",
        "reg_predictions = cross_val_predict(reg4, regression_data, labels_array, cv = 5)"
      ]
    },
    {
      "cell_type": "markdown",
      "source": [
        "Since you cannot compute a confusion matrix over continuous values and the accuracy is fairly low anyways, we can stop here rather than attempting to determine a cuttoff value to classify the linear regression predictions."
      ],
      "metadata": {
        "id": "noD5BX37iu-H"
      }
    },
    {
      "cell_type": "markdown",
      "source": [
        "# KNN"
      ],
      "metadata": {
        "id": "UM3SSdOGc2zO"
      }
    },
    {
      "cell_type": "markdown",
      "source": [
        "Now, we are going to try using KNN to predict values. Since we need numerical data, we will go back to the label encoded values we had before.\n",
        "\n",
        "Now we can see if we can predict the clearance status of a reported crime based on the label encoded features and a KNN model. We need to find the best value for `k` to base a prediction off of."
      ],
      "metadata": {
        "id": "zctWLNcLc2UD"
      }
    },
    {
      "cell_type": "code",
      "execution_count": null,
      "metadata": {
        "collapsed": true,
        "id": "bZnvdiZuLCTm",
        "colab": {
          "base_uri": "https://localhost:8080/"
        },
        "outputId": "6b1570c5-402b-4307-c700-487e23b89daf"
      },
      "outputs": [
        {
          "output_type": "stream",
          "name": "stdout",
          "text": [
            "k =  2  mean:  0.5862402646633125\n",
            "k =  3  mean:  0.5977588623153445\n",
            "k =  4  mean:  0.5962430215728168\n",
            "k =  5  mean:  0.6074598525053415\n",
            "k =  6  mean:  0.6042743584441841\n",
            "k =  7  mean:  0.6117027362326831\n",
            "k =  8  mean:  0.6018525283157581\n",
            "k =  9  mean:  0.6089736255657408\n",
            "k =  10  mean:  0.6047305120959404\n",
            "k =  11  mean:  0.6051858616490914\n",
            "k =  12  mean:  0.6077625381946837\n",
            "k =  13  mean:  0.6103390998690468\n",
            "k =  14  mean:  0.6083691731568911\n",
            "k =  15  mean:  0.6135217221494704\n",
            "k =  16  mean:  0.6112492246192018\n",
            "k =  17  mean:  0.6107931858386748\n",
            "k =  18  mean:  0.6074597376341122\n",
            "k =  19  mean:  0.6120057665357135\n",
            "k =  20  mean:  0.6101885036873664\n",
            "k =  21  mean:  0.6145826728237646\n",
            "k =  22  mean:  0.6095824430813058\n",
            "k =  23  mean:  0.6074595078916535\n",
            "k =  24  mean:  0.6080663725963196\n",
            "k =  25  mean:  0.6060944930732649\n",
            "\n",
            " 21\n",
            "0.6145826728237646\n"
          ]
        }
      ],
      "source": [
        "from pandas.core.arrays.string_arrow import pc\n",
        "from sklearn.preprocessing import StandardScaler\n",
        "from sklearn.decomposition import PCA\n",
        "from sklearn.neighbors import KNeighborsClassifier\n",
        "from sklearn.pipeline import Pipeline\n",
        "import statistics\n",
        "\n",
        "best_mean = 0\n",
        "best_k = 0\n",
        "cv_score_saved = []\n",
        "for k in range(2, 26):\n",
        "  scaler = StandardScaler()\n",
        "  knn = KNeighborsClassifier(k)\n",
        "  pca = PCA()\n",
        "  pipeline = Pipeline([('scaler', scaler), ('pca', pca), ('knn', knn)])\n",
        "  cv_score = cross_val_score(pipeline, data, labels_array, cv=5)\n",
        "  mean = statistics.mean(cv_score)\n",
        "  print(\"k = \", k, \" mean: \", mean)\n",
        "  if mean > best_mean:\n",
        "    best_mean = mean\n",
        "    best_k = k\n",
        "    cv_score_saved = cv_score\n",
        "\n",
        "print(\"\\n\", best_k)\n",
        "print(best_mean)"
      ]
    },
    {
      "cell_type": "markdown",
      "source": [
        "We can now compute a confusion matrix based on the best k value."
      ],
      "metadata": {
        "id": "W7qXEYvojhWH"
      }
    },
    {
      "cell_type": "code",
      "source": [
        "print(\"avg. accuracy: {}\".format(cv_score_saved.mean()))\n",
        "knn = KNeighborsClassifier(best_k)\n",
        "knn_preds = cross_val_predict(knn, data, labels_array, cv = 5)\n",
        "knn_cm = confusion_matrix(labels_array, knn_preds)\n",
        "knn_cr = classification_report(labels_array, knn_preds,  target_names = ['Cleared', 'Not Cleared'])\n",
        "\n",
        "print(knn_cm)\n",
        "print(knn_cr)\n",
        "\n",
        "knn.fit(data, labels_array)"
      ],
      "metadata": {
        "id": "OM-_GZ6rjm07",
        "colab": {
          "base_uri": "https://localhost:8080/"
        },
        "outputId": "f8db93d0-b189-4261-a376-5ce39453ce97"
      },
      "execution_count": null,
      "outputs": [
        {
          "output_type": "stream",
          "name": "stdout",
          "text": [
            "avg. accuracy: 0.6145826728237646\n",
            "[[1272 2027]\n",
            " [1157 2142]]\n",
            "              precision    recall  f1-score   support\n",
            "\n",
            "           0       0.52      0.39      0.44      3299\n",
            "           1       0.51      0.65      0.57      3299\n",
            "\n",
            "    accuracy                           0.52      6598\n",
            "   macro avg       0.52      0.52      0.51      6598\n",
            "weighted avg       0.52      0.52      0.51      6598\n",
            "\n"
          ]
        },
        {
          "output_type": "execute_result",
          "data": {
            "text/plain": [
              "KNeighborsClassifier(n_neighbors=21)"
            ]
          },
          "metadata": {},
          "execution_count": 91
        }
      ]
    },
    {
      "cell_type": "markdown",
      "source": [
        "# Neural Networks\n",
        "Scikit-Learn's MLP classifier will try a number of hidden layers and a variety of activation functions to fit to the data. It will also iteratively perform back propogation on its own in order to find the correct weights to fit to the data."
      ],
      "metadata": {
        "id": "uAL93sEP3FrK"
      }
    },
    {
      "cell_type": "code",
      "source": [
        "from sklearn.neural_network import MLPClassifier\n",
        "\n",
        "scores = cross_val_score(MLPClassifier(), data, labels_array, cv=5)\n",
        "print(\"Accuracy: \", sum(scores) / len(scores))\n",
        "predictions = cross_val_predict(MLPClassifier(), data, labels_array, cv = 5)\n",
        "nn_cm = confusion_matrix(labels_array, predictions)\n",
        "nn_cr = classification_report(labels_array, predictions,  target_names = ['Cleared', 'Not Cleared'])\n",
        "print(nn_cm)\n",
        "print(nn_cr)"
      ],
      "metadata": {
        "id": "NAfWD--63VTg",
        "colab": {
          "base_uri": "https://localhost:8080/"
        },
        "outputId": "f5d3cf57-3b37-43ff-bed6-23fbaaa939df"
      },
      "execution_count": null,
      "outputs": [
        {
          "output_type": "stream",
          "name": "stdout",
          "text": [
            "Accuracy:  0.505749190157833\n",
            "[[1234 2065]\n",
            " [1138 2161]]\n",
            "              precision    recall  f1-score   support\n",
            "\n",
            "           0       0.52      0.37      0.44      3299\n",
            "           1       0.51      0.66      0.57      3299\n",
            "\n",
            "    accuracy                           0.51      6598\n",
            "   macro avg       0.52      0.51      0.50      6598\n",
            "weighted avg       0.52      0.51      0.50      6598\n",
            "\n"
          ]
        }
      ]
    },
    {
      "cell_type": "markdown",
      "source": [
        "# Results\n",
        "\n",
        "We will now try our KNN and Naive Bayes classification models on the entire data set since these were the only models significantly above 50% average accuracy on our downsampled data set."
      ],
      "metadata": {
        "id": "0It4rIdhh1Jv"
      }
    },
    {
      "cell_type": "code",
      "source": [
        "predicted_labels = clf.predict(full_data)\n",
        "final_cr = classification_report(full_labels, predicted_labels,  target_names = ['Cleared', 'Not Cleared'])\n",
        "print(final_cr)\n",
        "\n",
        "predicted_labels_knn = knn.predict(full_data)\n",
        "final_cr_knn = classification_report(full_labels, predicted_labels_knn, target_names = ['Cleared', 'Not Cleared'])\n",
        "print(final_cr_knn)\n"
      ],
      "metadata": {
        "id": "usWWt8qXh97A",
        "colab": {
          "base_uri": "https://localhost:8080/"
        },
        "outputId": "19de9d93-c279-4384-bcd1-ecbade938f79"
      },
      "execution_count": null,
      "outputs": [
        {
          "output_type": "stream",
          "name": "stdout",
          "text": [
            "              precision    recall  f1-score   support\n",
            "\n",
            "     Cleared       0.32      0.82      0.46      3299\n",
            " Not Cleared       0.98      0.81      0.89     30298\n",
            "\n",
            "    accuracy                           0.81     33597\n",
            "   macro avg       0.65      0.82      0.67     33597\n",
            "weighted avg       0.91      0.81      0.85     33597\n",
            "\n",
            "              precision    recall  f1-score   support\n",
            "\n",
            "     Cleared       0.19      0.82      0.31      3299\n",
            " Not Cleared       0.97      0.63      0.76     30298\n",
            "\n",
            "    accuracy                           0.65     33597\n",
            "   macro avg       0.58      0.73      0.54     33597\n",
            "weighted avg       0.89      0.65      0.72     33597\n",
            "\n"
          ]
        }
      ]
    },
    {
      "cell_type": "markdown",
      "source": [
        "# Conclusion\n",
        "Unfortunately it looks like our model is not very accurate for predicting records that were cleared. This probably has to do with the the fact that there is a disproportionate amount of records that were not cleared compared to records that were cleared. This initially resulted in accuracies around 90% for every model, because each classifier could simply predict not cleared. We tried to account for this by downsampling, in order to have an even amount of each label. On the downsampled data, we were able to achieve reasonable results for most classifiers, but after running the best classifiers on the whole dataset, based on low F-scores and other metrics, it looks as if that did not sufficiently solve the problem. "
      ],
      "metadata": {
        "id": "Jvezd5UUxJAz"
      }
    }
  ]
}